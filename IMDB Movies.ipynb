{
 "cells": [
  {
   "cell_type": "code",
   "execution_count": 256,
   "metadata": {
    "collapsed": true
   },
   "outputs": [],
   "source": [
    "import time\n",
    "import urllib\n",
    "import urllib.request\n",
    "from urllib.request import urlopen\n",
    "import re\n",
    "from http.cookiejar import CookieJar\n",
    "import http.cookiejar\n",
    "import datetime\n",
    "import pprint"
   ]
  },
  {
   "cell_type": "code",
   "execution_count": 292,
   "metadata": {
    "collapsed": false
   },
   "outputs": [],
   "source": [
    "# IMDB The Bos\n",
    "cj = CookieJar()\n",
    "open = urllib.request.build_opener(urllib.request.HTTPCookieProcessor(cj))\n",
    "\n",
    "data = []\n",
    "def main():\n",
    "    page = 'http://www.imdb.com/title/tt2702724/reviews?start=0'\n",
    "    for i in range(0,5):\n",
    "        try:\n",
    "            sourcecode = open.open(page).read()\n",
    "\n",
    "            try:\n",
    "                comments = re.findall(b'<b>Author:</b>(.*?)</p>', sourcecode,re.S)\n",
    "                for comment in comments:\n",
    "                    data.append(comment)\n",
    "            except Exception as e:\n",
    "                print (e)\n",
    "\n",
    "        except Exception as e:\n",
    "            print(e)\n",
    "        page = \"http://www.imdb.com/title/tt2702724/reviews?start=\"+str(i+11)\n",
    "    #print(data)\n",
    "main()\n"
   ]
  },
  {
   "cell_type": "code",
   "execution_count": 293,
   "metadata": {
    "collapsed": false
   },
   "outputs": [],
   "source": [
    "# data encoding\n",
    "for i in range(0,len(data)):\n",
    "    data[i] = data[i].decode('UTF-8')"
   ]
  },
  {
   "cell_type": "code",
   "execution_count": 294,
   "metadata": {
    "collapsed": false
   },
   "outputs": [],
   "source": [
    "#data cleaning\n",
    "for i in range(0,len(data)):\n",
    "    data[i] = re.sub(r'[^\\w]', ' ', data[i])\n",
    "    data[i] = (re.sub(\"^\\d+\\s|\\s\\d+\\s|\\s\\d+$\", \" \", data[i])).lower()"
   ]
  },
  {
   "cell_type": "code",
   "execution_count": 295,
   "metadata": {
    "collapsed": false
   },
   "outputs": [],
   "source": [
    "import nltk"
   ]
  },
  {
   "cell_type": "code",
   "execution_count": 296,
   "metadata": {
    "collapsed": false
   },
   "outputs": [],
   "source": [
    "from nltk.corpus import stopwords\n",
    "from nltk.tokenize import word_tokenize\n"
   ]
  },
  {
   "cell_type": "code",
   "execution_count": 297,
   "metadata": {
    "collapsed": false
   },
   "outputs": [],
   "source": [
    "filteredData=[]\n",
    "stopWords = set(stopwords.words('english'))\n",
    "new_stopWords = set(['href','div','p','br'])\n",
    "stopWords = stopWords|new_stopWords\n",
    "\n",
    "for row in data:\n",
    "    eachWord = word_tokenize(row)\n",
    "    for i in eachWord:\n",
    "        if i not in stopWords or len(i)>1:\n",
    "            filteredData.append(i)\n",
    "\n",
    "for i in filteredData:\n",
    "    if i in new_stopWords or len(i)>1:\n",
    "        filteredData.remove(i)"
   ]
  },
  {
   "cell_type": "code",
   "execution_count": 298,
   "metadata": {
    "collapsed": false
   },
   "outputs": [],
   "source": [
    "#filteredData"
   ]
  },
  {
   "cell_type": "code",
   "execution_count": 299,
   "metadata": {
    "collapsed": false
   },
   "outputs": [],
   "source": [
    "from nltk.sentiment.vader import SentimentIntensityAnalyzer\n",
    "analyser = SentimentIntensityAnalyzer()"
   ]
  },
  {
   "cell_type": "code",
   "execution_count": 300,
   "metadata": {
    "collapsed": false
   },
   "outputs": [],
   "source": [
    "neg = []\n",
    "pos = []\n",
    "neu = []\n",
    "compo = []"
   ]
  },
  {
   "cell_type": "code",
   "execution_count": 301,
   "metadata": {
    "collapsed": true
   },
   "outputs": [],
   "source": [
    "for word in filteredData:\n",
    "    result = analyser.polarity_scores(word)\n",
    "    neg.append(result['neg'])\n",
    "    pos.append(result['pos'])\n",
    "    neu.append(result['neu'])\n",
    "    compo.append(result['compound'])"
   ]
  },
  {
   "cell_type": "code",
   "execution_count": 302,
   "metadata": {
    "collapsed": false
   },
   "outputs": [],
   "source": [
    "import numpy as np\n",
    "data=[sum(np.array(neg)), sum(np.array(pos))]"
   ]
  },
  {
   "cell_type": "code",
   "execution_count": null,
   "metadata": {
    "collapsed": false
   },
   "outputs": [],
   "source": []
  },
  {
   "cell_type": "code",
   "execution_count": 303,
   "metadata": {
    "collapsed": true
   },
   "outputs": [],
   "source": [
    "import matplotlib.pyplot as plt"
   ]
  },
  {
   "cell_type": "code",
   "execution_count": 304,
   "metadata": {
    "collapsed": false
   },
   "outputs": [],
   "source": [
    "\n",
    "#ax = fig.add_subplot(111)\n",
    "#y=len(data)\n",
    "#x = np.arange(y)\n",
    "\n",
    "#fig, ax = plt.subplots()\n",
    "#plt.bar(x, data, width=1, color=\"red\", align='center')\n",
    "#plt.xticks(range(2), ('Negative', 'Positive') )\n",
    "\n",
    "#plt.show()"
   ]
  },
  {
   "cell_type": "code",
   "execution_count": 329,
   "metadata": {
    "collapsed": false
   },
   "outputs": [
    {
     "name": "stdout",
     "output_type": "stream",
     "text": [
      "local variable 'page' referenced before assignment\n",
      "[b'\\n<a href=\"/user/ur62823742/\">Alex Dumitru</a><br>\\n<small>24 September 2015</small><br>\\n\\n</div>\\n<p>\\nI saw the trailer for &#x27;The Intern&#x27; sometime ago, advertised before &#x27;Spy\\n(2015)&#x27;. I liked the premise and the two lead actors, so today (the\\npremiere in Romania) I had to watch it.<br><br>I expected a fun, neat comedy but what I experienced was so much more:\\na great plot, brilliantly executed and acted. The jokes and fun parts\\nwere on point, and the world the movie created felt very authentic,\\nimmersive and a joy to watch on the big screen - this was helped by\\namazing costuming and cinematography.<br><br>The entire cast had very strong chemistry between them, and both\\nHathaway and De Niro were wonderful.<br><br>Overall an awesome, heartwarming movie. I walked out of the movie\\ntheater with a smile.\\n', b'\\n<a href=\"/user/ur53695966/\">madtrip</a> <small>from India</small><br>\\n<small>21 September 2015</small><br>\\n\\n</div>\\n<p>\\nThe Intern .... The sweetest, most perfect And heart touching I have\\nseen in a long time. Of course it helps that Robert De Niro is there\\nbut what a movie! This is what all movies should be.<br><br>Robert De Niro plays the perfect gentleman, the kind we don&#x27;t see\\nanymore. And every woman who sees the movie will fall a bit in love\\nwith him. Anne Hathaway perfectly plays the role of a successful\\nentrepreneur, a working wife and mom who thinks about everything and\\neveryone and still feels guilty about being a working woman, even after\\nthe perfect gentleman tells her He should not be the feminist amongst\\nthe two of them. Every working woman will identify with her inner\\nstruggles. The story is perfect, with the perfect practical ending, as\\nlife is always more practical than idealistic. The small touches like\\nthe housewives who look down upon the working mom and make her feel\\nguilty (I have seen many of those), the successful aggressive\\nentrepreneur&#x27;s fear of hurting her mom, the stay-at-home dad&#x27;s\\nend-of-day exhaustion that the working mom does not really understand\\nand the young boss&#x27; discomfort with her elderly intern... All so real.\\nThere&#x27;s an idea here which I spoke about long back... The huge talent\\npool of retired people nobody is willing to hire. The intern&#x27;s wisdom\\nand practicality brings a calm and peace to the busy boss&#x27; life.\\nThere&#x27;s a lesson here for us all here. Look at our elders and learn\\nfrom them. Stop a while in your busy life to get more out of it.<br><br>Loved the movie, hope everyone of my generation sees it.\\n', b'\\n<a href=\"/user/ur23415028/\">moviexclusive</a> <small>from Singapore</small><br>\\n<small>21 September 2015</small><br>\\n<p><b>*** This review may contain spoilers ***</b>', b'\\n<a href=\"/user/ur0281280/\">Ricardo-36</a> <small>from S&#xE3;o Paulo, Brazil</small><br>\\n<small>1 October 2015</small><br>\\n<p><b>*** This review may contain spoilers ***</b>', b'\\n<a href=\"/user/ur24001241/\">chaplinman13</a> <small>from Insight into the future...</small><br>\\n<small>17 September 2015</small><br>\\n\\n</div>\\n<p>\\nI caught an advance screening of this last night. The theater was close\\nto being packed with men, woman and children. The movie was\\nsurprisingly quite funny; didn&#x27;t know anything about it before viewing.\\nThe entire theater ended up cracking up numerous times. There were\\nvarious times I felt bad for De Niro&#x27;s character, but he was optimistic\\nand didn&#x27;t let it effect him, so it was great. There were a couple of\\ninstances I would have never guessed things about the movie. There is\\none scenario in the story that is tough; what would you do if put in\\nthat circumstance. I believe ages 20-80 can relate to this movie. We\\nhad De Niro&#x27;s aspect as well as Hathaway&#x27;s. Good storyline. The\\n&#x22;Intern&#x22; group of guys were funny too. I&#x27;d see this again.\\n', b'\\n<a href=\"/user/ur1866601/\">Jerghal</a> <small>from Belgium</small><br>\\n<small>3 January 2016</small><br>\\n\\n</div>\\n<p>\\nThe Intern is a perfect example of the soulless crap Hollywood dares to\\ncrank out. De Niro plays a retired 70 year old who is bored to death\\nand therefore seeks to work for free as an intern for a booming\\ne-commerce company run by Ann Hathaway. The film feels like one big fat\\ncommercial (and it actually is). At this hipster e-com company everyone\\nworks on Macs, Ann drives an Audi, she lives in a residential hipster\\nhouse. She drinks Stella Artois beer (they make sure you see the\\nlabel), brand names are also dropped (lego, Netflix), other products\\nare also clearly visible; Starbucks, Sony, Skype, Samsung,.. Even the\\nmusic sounds like music from a commercial (not joking!). Al these\\n&#x27;people&#x27; in the movie are the examples of successful hipsters and the\\n&#x27;problems&#x27; they have are just first world problems. I also could not\\nstand the characters: all these conflict avoiding, apologetic, overly\\nhelpful nitwits. If you see De Niro playing this cardboard character\\n(it&#x27;s written that way, he tries his best with it) it&#x27;s hard to believe\\nthis was the guy who played in Taxi Driver. The Intern is also so\\nPolitically Correct it&#x27;s sickening. You can feel being manipulated\\nwhile watching this garbage. It felt like these subliminal messages in\\nThey Live. People should not have paid to see this, they should have\\nbeen paid to spend 2 hours being pounded by this extensive commercial\\nmarinated in a forced &#x27;feel good&#x27; message.\\n', b'\\n<a href=\"/user/ur12093587/\">Dr_Sagan</a> <small>from the Edge of the Cosmos</small><br>\\n<small>2 January 2016</small><br>\\n\\n</div>\\n<p>\\nNancy Meyers is nearly 70 years old and this script seems like an\\nattempt to prove that her generation had the answers for pretty much\\nanything.<br><br>Baby boomers everywhere united! You are still needed to share the\\nwisdom. Next generations are only to show you how your laptop opens and\\nhow to create an account to facebook.<br><br>I guess there countless movies like this. You know some &#x22;back in\\nschool&#x22; flicks where the old guy or girl returns to &#x22;school&#x22; and\\ninstantly becomes one with the &#x22;kids&#x22; and gives life lessons to the\\nyoungsters, how to treat a girl, how to be punctual, about honesty and\\nfidelity. Next generations are just email-exchanging idiots.<br><br>Anyway. Despite the whole &#x22;wisdom&#x22; and &#x22;life begins at 70&#x22; crap, that\\nare simply not true, you have 3 extremely capable and experienced\\nactors (DeNiro, Hathaway, Russo) delivering the easygoing script and\\nshowing enough chemistry to make the film bearable. There is obviously\\nan uplifting mood (the self made millionaire girl etc. etc.) but there\\nare troubles in Paradise. You can&#x27;t have it all. Success and solid\\nfamily and be happy. That&#x27;s the message here, although in the movies\\nanything could happen...\\n', b'\\n<a href=\"/user/ur6799867/\">dancing15bear</a> <small>from United States</small><br>\\n<small>1 November 2015</small><br>\\n\\n</div>\\n<p>\\nSometimes you go to the theater, and you cringe at some of the\\npreviews, most of which are full of sex, violence, and an apocalyptic\\nview of the world. It&#x27;s hard to find a movie that is respectable and\\nclean, with charm and wit, one that is suitable for thinking adults.\\n&#x22;The Intern&#x22; is such a movie. <br><br>Robert DeNiro is superb. How a guy who played such ruthless characters\\nin &#x22;Goodfellas&#x22; and &#x22;Taxi Driver&#x22; can pull off this avuncular gentlemen\\nis a testament to his craft. His Ben Whittaker almost seems too\\nperfect, but DeNiro brings a humanity that makes him eminently\\nbelievable. Anne Hathaway does a fine turn as the Internet\\nentrepreneur, and fleshes out well what could have been a cartoon\\ncharacter of the &#xDC;bermom. The supporting cast supports wonderfully,\\ngiving the stars plenty of room to shine, not distracting from the\\nstory. And the plot never goes where it shouldn&#x27;t, something that does\\nhappen in other, more cynical films. <br><br>So I would very highly recommend this film. It has some &#x22;legs,&#x22; as\\nevidenced by the fairly sizable audience given that it&#x27;s in its sixth\\nweek of release. You know why? You&#x27;ll leave the theater entertained and\\nuplifted. And how often can you say that at the cinema these days?\\n', b'\\n<a href=\"/user/ur28730122/\">Maniac-cj</a> <small>from South Africa</small><br>\\n<small>28 December 2015</small><br>\\n\\n</div>\\n<p>\\nA movie with so much potential leaves you wishing there was an extra\\nhour to the move so that it can end far far far better than it did.<br><br>Instead it takes a powerful female adds a story line &#x22;sort of&#x22; and puts\\nthe entire female race back a good 50 years back<br><br>Two strong actors with the potential to pull the end to a far more\\nsatisfactory ending.<br><br>My family and I turned to each other at the end and were shocked to see\\nthe credits roll.<br><br>Anne Hathaway is a brilliant actress who coupled with a strong role\\nkind of makes the movie fun.<br><br>VERY disappointing.\\n', b'\\n<a href=\"/user/ur17590531/\">CleveMan66</a> <small>from United States</small><br>\\n<small>25 September 2015</small><br>\\n<p><b>*** This review may contain spoilers ***</b>', b'\\n<a href=\"/user/ur53695966/\">madtrip</a> <small>from India</small><br>\\n<small>21 September 2015</small><br>\\n\\n</div>\\n<p>\\nThe Intern .... The sweetest, most perfect And heart touching I have\\nseen in a long time. Of course it helps that Robert De Niro is there\\nbut what a movie! This is what all movies should be.<br><br>Robert De Niro plays the perfect gentleman, the kind we don&#x27;t see\\nanymore. And every woman who sees the movie will fall a bit in love\\nwith him. Anne Hathaway perfectly plays the role of a successful\\nentrepreneur, a working wife and mom who thinks about everything and\\neveryone and still feels guilty about being a working woman, even after\\nthe perfect gentleman tells her He should not be the feminist amongst\\nthe two of them. Every working woman will identify with her inner\\nstruggles. The story is perfect, with the perfect practical ending, as\\nlife is always more practical than idealistic. The small touches like\\nthe housewives who look down upon the working mom and make her feel\\nguilty (I have seen many of those), the successful aggressive\\nentrepreneur&#x27;s fear of hurting her mom, the stay-at-home dad&#x27;s\\nend-of-day exhaustion that the working mom does not really understand\\nand the young boss&#x27; discomfort with her elderly intern... All so real.\\nThere&#x27;s an idea here which I spoke about long back... The huge talent\\npool of retired people nobody is willing to hire. The intern&#x27;s wisdom\\nand practicality brings a calm and peace to the busy boss&#x27; life.\\nThere&#x27;s a lesson here for us all here. Look at our elders and learn\\nfrom them. Stop a while in your busy life to get more out of it.<br><br>Loved the movie, hope everyone of my generation sees it.\\n', b'\\n<a href=\"/user/ur23415028/\">moviexclusive</a> <small>from Singapore</small><br>\\n<small>21 September 2015</small><br>\\n<p><b>*** This review may contain spoilers ***</b>', b'\\n<a href=\"/user/ur0281280/\">Ricardo-36</a> <small>from S&#xE3;o Paulo, Brazil</small><br>\\n<small>1 October 2015</small><br>\\n<p><b>*** This review may contain spoilers ***</b>', b'\\n<a href=\"/user/ur24001241/\">chaplinman13</a> <small>from Insight into the future...</small><br>\\n<small>17 September 2015</small><br>\\n\\n</div>\\n<p>\\nI caught an advance screening of this last night. The theater was close\\nto being packed with men, woman and children. The movie was\\nsurprisingly quite funny; didn&#x27;t know anything about it before viewing.\\nThe entire theater ended up cracking up numerous times. There were\\nvarious times I felt bad for De Niro&#x27;s character, but he was optimistic\\nand didn&#x27;t let it effect him, so it was great. There were a couple of\\ninstances I would have never guessed things about the movie. There is\\none scenario in the story that is tough; what would you do if put in\\nthat circumstance. I believe ages 20-80 can relate to this movie. We\\nhad De Niro&#x27;s aspect as well as Hathaway&#x27;s. Good storyline. The\\n&#x22;Intern&#x22; group of guys were funny too. I&#x27;d see this again.\\n', b'\\n<a href=\"/user/ur1866601/\">Jerghal</a> <small>from Belgium</small><br>\\n<small>3 January 2016</small><br>\\n\\n</div>\\n<p>\\nThe Intern is a perfect example of the soulless crap Hollywood dares to\\ncrank out. De Niro plays a retired 70 year old who is bored to death\\nand therefore seeks to work for free as an intern for a booming\\ne-commerce company run by Ann Hathaway. The film feels like one big fat\\ncommercial (and it actually is). At this hipster e-com company everyone\\nworks on Macs, Ann drives an Audi, she lives in a residential hipster\\nhouse. She drinks Stella Artois beer (they make sure you see the\\nlabel), brand names are also dropped (lego, Netflix), other products\\nare also clearly visible; Starbucks, Sony, Skype, Samsung,.. Even the\\nmusic sounds like music from a commercial (not joking!). Al these\\n&#x27;people&#x27; in the movie are the examples of successful hipsters and the\\n&#x27;problems&#x27; they have are just first world problems. I also could not\\nstand the characters: all these conflict avoiding, apologetic, overly\\nhelpful nitwits. If you see De Niro playing this cardboard character\\n(it&#x27;s written that way, he tries his best with it) it&#x27;s hard to believe\\nthis was the guy who played in Taxi Driver. The Intern is also so\\nPolitically Correct it&#x27;s sickening. You can feel being manipulated\\nwhile watching this garbage. It felt like these subliminal messages in\\nThey Live. People should not have paid to see this, they should have\\nbeen paid to spend 2 hours being pounded by this extensive commercial\\nmarinated in a forced &#x27;feel good&#x27; message.\\n', b'\\n<a href=\"/user/ur12093587/\">Dr_Sagan</a> <small>from the Edge of the Cosmos</small><br>\\n<small>2 January 2016</small><br>\\n\\n</div>\\n<p>\\nNancy Meyers is nearly 70 years old and this script seems like an\\nattempt to prove that her generation had the answers for pretty much\\nanything.<br><br>Baby boomers everywhere united! You are still needed to share the\\nwisdom. Next generations are only to show you how your laptop opens and\\nhow to create an account to facebook.<br><br>I guess there countless movies like this. You know some &#x22;back in\\nschool&#x22; flicks where the old guy or girl returns to &#x22;school&#x22; and\\ninstantly becomes one with the &#x22;kids&#x22; and gives life lessons to the\\nyoungsters, how to treat a girl, how to be punctual, about honesty and\\nfidelity. Next generations are just email-exchanging idiots.<br><br>Anyway. Despite the whole &#x22;wisdom&#x22; and &#x22;life begins at 70&#x22; crap, that\\nare simply not true, you have 3 extremely capable and experienced\\nactors (DeNiro, Hathaway, Russo) delivering the easygoing script and\\nshowing enough chemistry to make the film bearable. There is obviously\\nan uplifting mood (the self made millionaire girl etc. etc.) but there\\nare troubles in Paradise. You can&#x27;t have it all. Success and solid\\nfamily and be happy. That&#x27;s the message here, although in the movies\\nanything could happen...\\n', b'\\n<a href=\"/user/ur6799867/\">dancing15bear</a> <small>from United States</small><br>\\n<small>1 November 2015</small><br>\\n\\n</div>\\n<p>\\nSometimes you go to the theater, and you cringe at some of the\\npreviews, most of which are full of sex, violence, and an apocalyptic\\nview of the world. It&#x27;s hard to find a movie that is respectable and\\nclean, with charm and wit, one that is suitable for thinking adults.\\n&#x22;The Intern&#x22; is such a movie. <br><br>Robert DeNiro is superb. How a guy who played such ruthless characters\\nin &#x22;Goodfellas&#x22; and &#x22;Taxi Driver&#x22; can pull off this avuncular gentlemen\\nis a testament to his craft. His Ben Whittaker almost seems too\\nperfect, but DeNiro brings a humanity that makes him eminently\\nbelievable. Anne Hathaway does a fine turn as the Internet\\nentrepreneur, and fleshes out well what could have been a cartoon\\ncharacter of the &#xDC;bermom. The supporting cast supports wonderfully,\\ngiving the stars plenty of room to shine, not distracting from the\\nstory. And the plot never goes where it shouldn&#x27;t, something that does\\nhappen in other, more cynical films. <br><br>So I would very highly recommend this film. It has some &#x22;legs,&#x22; as\\nevidenced by the fairly sizable audience given that it&#x27;s in its sixth\\nweek of release. You know why? You&#x27;ll leave the theater entertained and\\nuplifted. And how often can you say that at the cinema these days?\\n', b'\\n<a href=\"/user/ur28730122/\">Maniac-cj</a> <small>from South Africa</small><br>\\n<small>28 December 2015</small><br>\\n\\n</div>\\n<p>\\nA movie with so much potential leaves you wishing there was an extra\\nhour to the move so that it can end far far far better than it did.<br><br>Instead it takes a powerful female adds a story line &#x22;sort of&#x22; and puts\\nthe entire female race back a good 50 years back<br><br>Two strong actors with the potential to pull the end to a far more\\nsatisfactory ending.<br><br>My family and I turned to each other at the end and were shocked to see\\nthe credits roll.<br><br>Anne Hathaway is a brilliant actress who coupled with a strong role\\nkind of makes the movie fun.<br><br>VERY disappointing.\\n', b'\\n<a href=\"/user/ur17590531/\">CleveMan66</a> <small>from United States</small><br>\\n<small>25 September 2015</small><br>\\n<p><b>*** This review may contain spoilers ***</b>', b'\\n<a href=\"/user/ur16403842/\">mikipryor-1</a> <small>from United States</small><br>\\n<small>17 September 2015</small><br>\\n\\n</div>\\n<p>\\nWonderful contemporary story, great acting. What more can one ask for?\\nDeNiro totally inhabits the role of a bored NewYorker retiree who\\nquietly, commandingly changes everyone around him for the better. There\\nwere little bits of sentimental predictability but not many. Nothing\\nslowed the pace for long. It was lovely to see ageism front and center,\\nblasted to smithereens! Subtle, believable performances that did not\\npander to the problems of aging, but acknowledged them. The boys &#x22;road\\ntrip&#x22; was hilarious. The &#x22;boys&#x22; themselves were presented as\\nstereotypes but managed to imbue them with personality. There were some\\ngreat laugh out loud moments! Nicely cast, well-written plot and\\ncharacters. Go see it! Especially if you are over 60!\\n', b'\\n<a href=\"/user/ur23415028/\">moviexclusive</a> <small>from Singapore</small><br>\\n<small>21 September 2015</small><br>\\n<p><b>*** This review may contain spoilers ***</b>', b'\\n<a href=\"/user/ur0281280/\">Ricardo-36</a> <small>from S&#xE3;o Paulo, Brazil</small><br>\\n<small>1 October 2015</small><br>\\n<p><b>*** This review may contain spoilers ***</b>', b'\\n<a href=\"/user/ur24001241/\">chaplinman13</a> <small>from Insight into the future...</small><br>\\n<small>17 September 2015</small><br>\\n\\n</div>\\n<p>\\nI caught an advance screening of this last night. The theater was close\\nto being packed with men, woman and children. The movie was\\nsurprisingly quite funny; didn&#x27;t know anything about it before viewing.\\nThe entire theater ended up cracking up numerous times. There were\\nvarious times I felt bad for De Niro&#x27;s character, but he was optimistic\\nand didn&#x27;t let it effect him, so it was great. There were a couple of\\ninstances I would have never guessed things about the movie. There is\\none scenario in the story that is tough; what would you do if put in\\nthat circumstance. I believe ages 20-80 can relate to this movie. We\\nhad De Niro&#x27;s aspect as well as Hathaway&#x27;s. Good storyline. The\\n&#x22;Intern&#x22; group of guys were funny too. I&#x27;d see this again.\\n', b'\\n<a href=\"/user/ur1866601/\">Jerghal</a> <small>from Belgium</small><br>\\n<small>3 January 2016</small><br>\\n\\n</div>\\n<p>\\nThe Intern is a perfect example of the soulless crap Hollywood dares to\\ncrank out. De Niro plays a retired 70 year old who is bored to death\\nand therefore seeks to work for free as an intern for a booming\\ne-commerce company run by Ann Hathaway. The film feels like one big fat\\ncommercial (and it actually is). At this hipster e-com company everyone\\nworks on Macs, Ann drives an Audi, she lives in a residential hipster\\nhouse. She drinks Stella Artois beer (they make sure you see the\\nlabel), brand names are also dropped (lego, Netflix), other products\\nare also clearly visible; Starbucks, Sony, Skype, Samsung,.. Even the\\nmusic sounds like music from a commercial (not joking!). Al these\\n&#x27;people&#x27; in the movie are the examples of successful hipsters and the\\n&#x27;problems&#x27; they have are just first world problems. I also could not\\nstand the characters: all these conflict avoiding, apologetic, overly\\nhelpful nitwits. If you see De Niro playing this cardboard character\\n(it&#x27;s written that way, he tries his best with it) it&#x27;s hard to believe\\nthis was the guy who played in Taxi Driver. The Intern is also so\\nPolitically Correct it&#x27;s sickening. You can feel being manipulated\\nwhile watching this garbage. It felt like these subliminal messages in\\nThey Live. People should not have paid to see this, they should have\\nbeen paid to spend 2 hours being pounded by this extensive commercial\\nmarinated in a forced &#x27;feel good&#x27; message.\\n', b'\\n<a href=\"/user/ur12093587/\">Dr_Sagan</a> <small>from the Edge of the Cosmos</small><br>\\n<small>2 January 2016</small><br>\\n\\n</div>\\n<p>\\nNancy Meyers is nearly 70 years old and this script seems like an\\nattempt to prove that her generation had the answers for pretty much\\nanything.<br><br>Baby boomers everywhere united! You are still needed to share the\\nwisdom. Next generations are only to show you how your laptop opens and\\nhow to create an account to facebook.<br><br>I guess there countless movies like this. You know some &#x22;back in\\nschool&#x22; flicks where the old guy or girl returns to &#x22;school&#x22; and\\ninstantly becomes one with the &#x22;kids&#x22; and gives life lessons to the\\nyoungsters, how to treat a girl, how to be punctual, about honesty and\\nfidelity. Next generations are just email-exchanging idiots.<br><br>Anyway. Despite the whole &#x22;wisdom&#x22; and &#x22;life begins at 70&#x22; crap, that\\nare simply not true, you have 3 extremely capable and experienced\\nactors (DeNiro, Hathaway, Russo) delivering the easygoing script and\\nshowing enough chemistry to make the film bearable. There is obviously\\nan uplifting mood (the self made millionaire girl etc. etc.) but there\\nare troubles in Paradise. You can&#x27;t have it all. Success and solid\\nfamily and be happy. That&#x27;s the message here, although in the movies\\nanything could happen...\\n', b'\\n<a href=\"/user/ur6799867/\">dancing15bear</a> <small>from United States</small><br>\\n<small>1 November 2015</small><br>\\n\\n</div>\\n<p>\\nSometimes you go to the theater, and you cringe at some of the\\npreviews, most of which are full of sex, violence, and an apocalyptic\\nview of the world. It&#x27;s hard to find a movie that is respectable and\\nclean, with charm and wit, one that is suitable for thinking adults.\\n&#x22;The Intern&#x22; is such a movie. <br><br>Robert DeNiro is superb. How a guy who played such ruthless characters\\nin &#x22;Goodfellas&#x22; and &#x22;Taxi Driver&#x22; can pull off this avuncular gentlemen\\nis a testament to his craft. His Ben Whittaker almost seems too\\nperfect, but DeNiro brings a humanity that makes him eminently\\nbelievable. Anne Hathaway does a fine turn as the Internet\\nentrepreneur, and fleshes out well what could have been a cartoon\\ncharacter of the &#xDC;bermom. The supporting cast supports wonderfully,\\ngiving the stars plenty of room to shine, not distracting from the\\nstory. And the plot never goes where it shouldn&#x27;t, something that does\\nhappen in other, more cynical films. <br><br>So I would very highly recommend this film. It has some &#x22;legs,&#x22; as\\nevidenced by the fairly sizable audience given that it&#x27;s in its sixth\\nweek of release. You know why? You&#x27;ll leave the theater entertained and\\nuplifted. And how often can you say that at the cinema these days?\\n', b'\\n<a href=\"/user/ur28730122/\">Maniac-cj</a> <small>from South Africa</small><br>\\n<small>28 December 2015</small><br>\\n\\n</div>\\n<p>\\nA movie with so much potential leaves you wishing there was an extra\\nhour to the move so that it can end far far far better than it did.<br><br>Instead it takes a powerful female adds a story line &#x22;sort of&#x22; and puts\\nthe entire female race back a good 50 years back<br><br>Two strong actors with the potential to pull the end to a far more\\nsatisfactory ending.<br><br>My family and I turned to each other at the end and were shocked to see\\nthe credits roll.<br><br>Anne Hathaway is a brilliant actress who coupled with a strong role\\nkind of makes the movie fun.<br><br>VERY disappointing.\\n', b'\\n<a href=\"/user/ur17590531/\">CleveMan66</a> <small>from United States</small><br>\\n<small>25 September 2015</small><br>\\n<p><b>*** This review may contain spoilers ***</b>', b'\\n<a href=\"/user/ur16403842/\">mikipryor-1</a> <small>from United States</small><br>\\n<small>17 September 2015</small><br>\\n\\n</div>\\n<p>\\nWonderful contemporary story, great acting. What more can one ask for?\\nDeNiro totally inhabits the role of a bored NewYorker retiree who\\nquietly, commandingly changes everyone around him for the better. There\\nwere little bits of sentimental predictability but not many. Nothing\\nslowed the pace for long. It was lovely to see ageism front and center,\\nblasted to smithereens! Subtle, believable performances that did not\\npander to the problems of aging, but acknowledged them. The boys &#x22;road\\ntrip&#x22; was hilarious. The &#x22;boys&#x22; themselves were presented as\\nstereotypes but managed to imbue them with personality. There were some\\ngreat laugh out loud moments! Nicely cast, well-written plot and\\ncharacters. Go see it! Especially if you are over 60!\\n', b'\\n<a href=\"/user/ur19648580/\">patsworld</a> <small>from United States</small><br>\\n<small>25 September 2015</small><br>\\n\\n</div>\\n<p>\\nRobert De Niro, as a retired 70 year old who re-enters the work force\\nand proves beyond a shadow of a doubt that oldies are still\\ngoodies&#x85;.also proves just why he is a star as he shines so bright in\\nthis movie as to be blinding. He is perfection. There are some actors\\nthat the older they get, the better they get, and De Niro is most\\ncertainly one. Anne Hathaway, as the genius behind a too-fast growing\\ncompany is playing what I consider one of her best roles yet. And Rene\\nRusso is still gorgeous as ever. I was impressed, also, by Anders Holm\\nwho played Hathaway&#x27;s husband. But then, actually, I was impressed with\\neveryone in this movie. There really wasn&#x27;t a single thing or character\\nI would change in this one, and that&#x27;s saying something. The casting,\\nthe plot, the dialogue&#x85;and fancy this, it was a funny, touching,\\nenjoyable picture with NO foul language, NO overly-suggestive crude\\ngarbage that usually just makes the audience cringe. It was well\\nwritten, well -acted, and well presented. All rare these days where\\njust the writing ability seems to have dwindled into the dirt. This one\\nis evidence that there are still writers and creators who have talent\\nout there. More movie producers should make a point of seeking and\\nfinding them! This is a fun movie that you are going to be recommending\\nto everyone within reading or hearing distance. One of the best films\\nwe&#x27;ve seen in some time and left us all smiling as we left the\\nbuilding.\\n']\n"
     ]
    }
   ],
   "source": [
    "cj1 = CookieJar()\n",
    "open = urllib.request.build_opener(urllib.request.HTTPCookieProcessor(cj1))\n",
    "page = 'http://www.imdb.com/title/tt2361509/reviews?start=0'\n",
    "data1 = []\n",
    "def main():\n",
    "    for i in range(1,5):\n",
    "        try:\n",
    "            sourcecode = open.open(page).read()\n",
    "\n",
    "            try:\n",
    "                comments = re.findall(b'<b>Author:</b>(.*?)</p>', sourcecode,re.S)\n",
    "                for comment in comments:\n",
    "                    data1.append(comment)\n",
    "            except Exception as e:\n",
    "                print (e)\n",
    "\n",
    "        except Exception as e:\n",
    "            print(e)\n",
    "        \n",
    "        page = \"http://www.imdb.com/title/tt2361509/reviews?start=\"+str(i)\n",
    "    print(data1)\n",
    "main()"
   ]
  },
  {
   "cell_type": "code",
   "execution_count": 331,
   "metadata": {
    "collapsed": false
   },
   "outputs": [],
   "source": [
    "for i in range(0,len(data1)):\n",
    "    data1[i] = data1[i].decode('UTF-8')"
   ]
  },
  {
   "cell_type": "code",
   "execution_count": 332,
   "metadata": {
    "collapsed": false
   },
   "outputs": [],
   "source": [
    "for i in range(len(data1)):\n",
    "    data1[i] = re.sub(r'[^\\w]', ' ', data1[i])\n",
    "    data1[i] = (re.sub(\"^\\d+\\s|\\s\\d+\\s|\\s\\d+$\", \" \", data1[i])).lower()\n",
    "    #print(i, \" : \",data1[i])"
   ]
  },
  {
   "cell_type": "code",
   "execution_count": 333,
   "metadata": {
    "collapsed": false
   },
   "outputs": [],
   "source": [
    "import nltk"
   ]
  },
  {
   "cell_type": "code",
   "execution_count": 334,
   "metadata": {
    "collapsed": true
   },
   "outputs": [],
   "source": [
    "from nltk.corpus import stopwords\n",
    "from nltk.tokenize import word_tokenize"
   ]
  },
  {
   "cell_type": "code",
   "execution_count": 335,
   "metadata": {
    "collapsed": false
   },
   "outputs": [],
   "source": [
    "filteredData1=[]\n",
    "stopWords = set(stopwords.words('english'))\n",
    "new_stopWords = set(['href','div','p','br'])\n",
    "stopWords = stopWords|new_stopWords\n",
    "\n",
    "for row in data1:\n",
    "    eachWord = word_tokenize(row)\n",
    "    for i in eachWord:\n",
    "        if i not in stopWords or len(i)>1:\n",
    "            filteredData1.append(i)\n",
    "\n",
    "for i in filteredData1:\n",
    "    if i in new_stopWords or len(i)>1:\n",
    "        filteredData1.remove(i)"
   ]
  },
  {
   "cell_type": "code",
   "execution_count": 336,
   "metadata": {
    "collapsed": false
   },
   "outputs": [],
   "source": [
    "#filteredData1"
   ]
  },
  {
   "cell_type": "code",
   "execution_count": 337,
   "metadata": {
    "collapsed": true
   },
   "outputs": [],
   "source": [
    "from nltk.sentiment.vader import SentimentIntensityAnalyzer\n",
    "analyser1 = SentimentIntensityAnalyzer()"
   ]
  },
  {
   "cell_type": "code",
   "execution_count": 338,
   "metadata": {
    "collapsed": true
   },
   "outputs": [],
   "source": [
    "neg1 = []\n",
    "pos1 = []\n",
    "neu1 = []\n",
    "compo1 = []"
   ]
  },
  {
   "cell_type": "code",
   "execution_count": 339,
   "metadata": {
    "collapsed": true
   },
   "outputs": [],
   "source": [
    "for word in filteredData1:\n",
    "    result = analyser.polarity_scores(word)\n",
    "    neg1.append(result['neg'])\n",
    "    pos1.append(result['pos'])\n",
    "    neu1.append(result['neu'])\n",
    "    compo1.append(result['compound'])"
   ]
  },
  {
   "cell_type": "code",
   "execution_count": 340,
   "metadata": {
    "collapsed": true
   },
   "outputs": [],
   "source": [
    "import numpy as np\n",
    "data1=[sum(np.array(neg1)), sum(np.array(pos1))]"
   ]
  },
  {
   "cell_type": "code",
   "execution_count": 341,
   "metadata": {
    "collapsed": false
   },
   "outputs": [],
   "source": [
    "#data1"
   ]
  },
  {
   "cell_type": "code",
   "execution_count": 342,
   "metadata": {
    "collapsed": true
   },
   "outputs": [],
   "source": [
    "import matplotlib.pyplot as plt"
   ]
  },
  {
   "cell_type": "code",
   "execution_count": 343,
   "metadata": {
    "collapsed": true
   },
   "outputs": [],
   "source": [
    "#y1=len(data1)\n",
    "#x1 = np.arange(y1)\n",
    "\n",
    "#fig1, ax = plt.subplots()\n",
    "#plt.bar(x1, data1, width=1, color=\"blue\", align='center')\n",
    "#plt.xticks(range(4), ('Negative', 'Positive') )\n",
    "#plt.title(\"Plot for THE BOSS!!\")\n",
    "\n",
    "#plt.show()"
   ]
  },
  {
   "cell_type": "code",
   "execution_count": 345,
   "metadata": {
    "collapsed": false
   },
   "outputs": [],
   "source": [
    "ax = plt.subplot(111)\n",
    "ax.bar(x, data,width=0.2,color='b',align='center', )\n",
    "ax.bar(x + 0.2, data1,width=0.2,color='r',align='center')\n",
    "\n",
    "ax.set_xticklabels([\"The Boss-->\",\"pos\",\"neg\",\"\",\"\",\"The Intern-->\",\"pos\",\"neg\"])\n",
    "plt.show()"
   ]
  },
  {
   "cell_type": "code",
   "execution_count": null,
   "metadata": {
    "collapsed": true
   },
   "outputs": [],
   "source": []
  }
 ],
 "metadata": {
  "kernelspec": {
   "display_name": "Python 3",
   "language": "python",
   "name": "python3"
  },
  "language_info": {
   "codemirror_mode": {
    "name": "ipython",
    "version": 3
   },
   "file_extension": ".py",
   "mimetype": "text/x-python",
   "name": "python",
   "nbconvert_exporter": "python",
   "pygments_lexer": "ipython3",
   "version": "3.5.1"
  }
 },
 "nbformat": 4,
 "nbformat_minor": 0
}
